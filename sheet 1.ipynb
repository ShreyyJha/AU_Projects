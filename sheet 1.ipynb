{
 "cells": [
  {
   "cell_type": "code",
   "execution_count": 6,
   "id": "e58f8b94",
   "metadata": {},
   "outputs": [
    {
     "name": "stdout",
     "output_type": "stream",
     "text": [
      "30 degree celcius is 86.0 Fahrenheit\n"
     ]
    }
   ],
   "source": [
    "# Q2:- Write a program that will convert celsius value to fahrenheit.\"\"\"\n",
    "\n",
    "celcius = int(input())\n",
    "F = (celcius*(9/5))+32\n",
    "print(celcius,\"degree celcius is\",F,\"Fahrenheit\")"
   ]
  },
  {
   "cell_type": "code",
   "execution_count": 7,
   "id": "e92d64a2",
   "metadata": {},
   "outputs": [
    {
     "name": "stdout",
     "output_type": "stream",
     "text": [
      "After swapping:\n",
      "First number: 4\n",
      "Second number: 2\n"
     ]
    }
   ],
   "source": [
    "# Q3:- Take 2 numbers as input from the user.Write a program to swap the numbers without using any special python syntax.\"\"\"\n",
    "\n",
    "a = int(input(\"Enter first number:\"))\n",
    "b = int(input(\"Enter second number:\"))      \n",
    "a,b = b,a\n",
    "print(\"After swapping:\")\n",
    "print(\"First number:\",a)\n",
    "print(\"Second number:\",b)\n"
   ]
  },
  {
   "cell_type": "code",
   "execution_count": 10,
   "id": "50f51b1d",
   "metadata": {},
   "outputs": [
    {
     "name": "stdout",
     "output_type": "stream",
     "text": [
      "Euclidean distance is: 8.94427190999916\n"
     ]
    }
   ],
   "source": [
    "# Q4:- Write a program to find the euclidean distance between two coordinates.Take both the coordinates from the user as input.\"\"\"\n",
    "\n",
    "num1 = int(input(\"Enter first coordinate:\"))\n",
    "num2 = int(input(\"Enter second coordinate:\"))\n",
    "distance = ((num1**2)+(num2**2))**0.5\n",
    "print(\"Euclidean distance is:\",distance)\n"
   ]
  },
  {
   "cell_type": "code",
   "execution_count": 2,
   "id": "2c97bd3e",
   "metadata": {},
   "outputs": [
    {
     "name": "stdout",
     "output_type": "stream",
     "text": [
      "Simple interest is: 2.4\n"
     ]
    }
   ],
   "source": [
    "# Q5:- Write a program to find the simple interest when the value of principle,rate of interest and time period is provided by the user.\n",
    "\n",
    "principle = int(input(\"Enter principle amount:\"))\n",
    "rate = int(input(\"Enter rate of interest:\"))            \n",
    "time = int(input(\"Enter time period:\"))\n",
    "simple_interest = (principle*rate*time)/100\n",
    "print(\"Simple interest is:\",simple_interest)"
   ]
  },
  {
   "cell_type": "code",
   "execution_count": 3,
   "id": "5d1cb447",
   "metadata": {},
   "outputs": [
    {
     "name": "stdout",
     "output_type": "stream",
     "text": [
      "Number of dogs: 2.0\n",
      "Number of chickens: 2.0\n"
     ]
    }
   ],
   "source": [
    "# Write a program that will tell the number of dogs and chicken are there when the user will provide the value of total heads and legs.\n",
    "\n",
    "total_heads = int(input(\"Enter total heads:\"))\n",
    "total_legs = int(input(\"Enter total legs:\"))\n",
    "dogs = (total_legs - 2*total_heads)/2\n",
    "chickens = total_heads - dogs\n",
    "print(\"Number of dogs:\",dogs)\n",
    "print(\"Number of chickens:\",chickens)\n"
   ]
  },
  {
   "cell_type": "code",
   "execution_count": null,
   "id": "3f0e38e8",
   "metadata": {},
   "outputs": [
    {
     "name": "stdout",
     "output_type": "stream",
     "text": [
      "55\n"
     ]
    }
   ],
   "source": [
    "#  Write a program to find the sum of squares of first n natural numbers where n will be provided by the user.\n",
    "\n",
    "n = int(input(\"Enter a number:\"))\n",
    "sum_of_squares = 0\n",
    "\n",
    "for i in range(1,n+1):\n",
    "    sum_of_squares += i**2\n",
    "\n",
    "print(sum_of_squares)"
   ]
  },
  {
   "cell_type": "code",
   "execution_count": 9,
   "id": "74c0eb44",
   "metadata": {},
   "outputs": [
    {
     "name": "stdout",
     "output_type": "stream",
     "text": [
      "the 100 term of an ap is 302\n"
     ]
    }
   ],
   "source": [
    "# Q8:- Given the first 2 terms of an Arithmetic Series.Find the Nth term of the series. Assume all inputs are provided by the user.\n",
    "\n",
    "a1 = int(input(\"Enter first term of ap:\"))\n",
    "a2 = int(input(\"Enter second term of ap:\"))\n",
    "n = int(input(\"enter the nth term:\"))\n",
    "d = a2 - a1\n",
    "an = a1 + (n-1)*d\n",
    "print(\"the\",n,\"term of an ap is\",an)\n",
    "\n"
   ]
  },
  {
   "cell_type": "code",
   "execution_count": 11,
   "id": "47ad1690",
   "metadata": {},
   "outputs": [
    {
     "name": "stdout",
     "output_type": "stream",
     "text": [
      "Sum of the fractions is: 1.0\n"
     ]
    }
   ],
   "source": [
    "# Q9:- Given 2 fractions, find the sum of those 2 fractions.Take the numerator and denominator values of the fractions from the user.\"\"\"\n",
    "\n",
    "numerator1 = int(input(\"Enter numerator of first fraction:\"))\n",
    "denominator1 = int(input(\"Enter denominator of first fraction:\"))\n",
    "numerator2 = int(input(\"Enter numerator of second fraction:\"))\n",
    "denominator2 = int(input(\"Enter denominator of second fraction:\"))\n",
    "\n",
    "sum_numerator = (numerator1*denominator2) + (numerator2*denominator1)\n",
    "sum_denominator = denominator1 * denominator2\n",
    "sum_fraction = sum_numerator / sum_denominator\n",
    "print(\"Sum of the fractions is:\", sum_fraction)"
   ]
  },
  {
   "cell_type": "code",
   "execution_count": 13,
   "id": "7a0333cb",
   "metadata": {},
   "outputs": [
    {
     "name": "stdout",
     "output_type": "stream",
     "text": [
      "Number of glasses of milk that can be obtained: 10.666666666666666\n"
     ]
    }
   ],
   "source": [
    "# Given the height, width and breadth of a milk tank, you have to find out how many glasses of milk can be obtained? Assume all the inputs are provided by the user.\n",
    "\n",
    "height = int(input(\"Enter height of tank:\"))\n",
    "width = int(input(\"Enter width of tank:\"))\n",
    "breadth = int(input(\"Enter breadth of tank:\"))\n",
    "glass_height = int(input(\"Enter height of glass:\"))\n",
    "glass_width = int(input(\"Enter width of glass:\"))\n",
    "glass_breadth = int(input(\"Enter breadth of glass:\"))\n",
    "\n",
    "tank_volume = height * width * breadth\n",
    "glass_volume = glass_height * glass_width * glass_breadth\n",
    "glasses = tank_volume / glass_volume\n",
    "print(\"Number of glasses of milk that can be obtained:\", glasses)"
   ]
  },
  {
   "cell_type": "code",
   "execution_count": null,
   "id": "78bd563f",
   "metadata": {},
   "outputs": [],
   "source": []
  }
 ],
 "metadata": {
  "kernelspec": {
   "display_name": "base",
   "language": "python",
   "name": "python3"
  },
  "language_info": {
   "codemirror_mode": {
    "name": "ipython",
    "version": 3
   },
   "file_extension": ".py",
   "mimetype": "text/x-python",
   "name": "python",
   "nbconvert_exporter": "python",
   "pygments_lexer": "ipython3",
   "version": "3.11.7"
  }
 },
 "nbformat": 4,
 "nbformat_minor": 5
}
