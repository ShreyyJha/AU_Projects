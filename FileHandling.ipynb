{
 "cells": [
  {
   "cell_type": "code",
   "execution_count": 1,
   "id": "a147b8c8-1a82-4d48-9c17-78b87d28c00a",
   "metadata": {},
   "outputs": [],
   "source": [
    "f = open(\"sample.txt\",'w')"
   ]
  },
  {
   "cell_type": "code",
   "execution_count": 6,
   "id": "10ea0627-30bb-4b6a-a05d-4f81b6bc6005",
   "metadata": {},
   "outputs": [
    {
     "data": {
      "text/plain": [
       "17"
      ]
     },
     "execution_count": 6,
     "metadata": {},
     "output_type": "execute_result"
    }
   ],
   "source": [
    "g = open(\"sample.txt\",'w')\n",
    "g.write(\"My Name is Shrey!\")"
   ]
  },
  {
   "cell_type": "code",
   "execution_count": 7,
   "id": "f99042df-fb6c-4ea6-ba23-7d79318efa40",
   "metadata": {},
   "outputs": [],
   "source": [
    "g.close()"
   ]
  },
  {
   "cell_type": "code",
   "execution_count": 10,
   "id": "9f05b269-d36e-4204-b664-6aa47c4714a6",
   "metadata": {},
   "outputs": [],
   "source": [
    "# write function \n",
    "g = open(\"sample.txt\",'a')\n",
    "g.write(\"\\nMy Name is Rey!\")\n",
    "g.close()"
   ]
  },
  {
   "cell_type": "code",
   "execution_count": 12,
   "id": "001a6bde-09aa-46bf-a022-71a6d8c44699",
   "metadata": {},
   "outputs": [],
   "source": [
    "# writelines function\n",
    "l = [\"hello World!\\n\" for i in range(20)]\n",
    "g = open(\"Sample.txt\",'w')\n",
    "g.writelines(l)\n",
    "g.close()"
   ]
  },
  {
   "cell_type": "code",
   "execution_count": 17,
   "id": "d31fbce1-b956-40ce-bfa0-5385931c6478",
   "metadata": {},
   "outputs": [
    {
     "name": "stdout",
     "output_type": "stream",
     "text": [
      "hello Wo\n"
     ]
    }
   ],
   "source": [
    "g = open(\"sample.txt\",'r')\n",
    "data = g.read(8)\n",
    "g.close()\n",
    "print(data)"
   ]
  },
  {
   "cell_type": "code",
   "execution_count": 15,
   "id": "7a64a2c9-f793-4736-96c1-b3973269666b",
   "metadata": {},
   "outputs": [
    {
     "name": "stdout",
     "output_type": "stream",
     "text": [
      "['hello World!\\n', 'hello World!\\n', 'hello World!\\n', 'hello World!\\n', 'hello World!\\n', 'hello World!\\n', 'hello World!\\n', 'hello World!\\n', 'hello World!\\n', 'hello World!\\n', 'hello World!\\n', 'hello World!\\n', 'hello World!\\n', 'hello World!\\n', 'hello World!\\n', 'hello World!\\n', 'hello World!\\n', 'hello World!\\n', 'hello World!\\n', 'hello World!\\n']\n"
     ]
    }
   ],
   "source": [
    "#readlines\n",
    "f = open('sample.txt','r')\n",
    "data = f.readlines()\n",
    "f.close()\n",
    "print(data)"
   ]
  },
  {
   "cell_type": "code",
   "execution_count": 18,
   "id": "8c2e13f0-af41-4c74-9973-0bdc9da84df5",
   "metadata": {},
   "outputs": [
    {
     "name": "stdout",
     "output_type": "stream",
     "text": [
      "hello/ Worl/"
     ]
    }
   ],
   "source": [
    "g = open(\"sample.txt\",'r')\n",
    "data = g.read(5)\n",
    "print(data,end=\"/\")\n",
    "data = g.read(5)\n",
    "print(data,end='/')\n",
    "g.close()"
   ]
  },
  {
   "cell_type": "code",
   "execution_count": 3,
   "id": "0a9e427d-0b5b-426d-8bd8-5f0fa47e70e7",
   "metadata": {},
   "outputs": [
    {
     "name": "stdout",
     "output_type": "stream",
     "text": [
      "hello/ Worl/d!\n",
      "he/llo W/orld!/\n",
      "hell/o Wor/ld!\n",
      "h/ello /World/!\n",
      "hel/lo Wo/rld!\n",
      "/hello/ Worl/d!\n",
      "he/llo W/orld!/\n",
      "hell/o Wor/ld!\n",
      "h/ello /World/!\n",
      "hel/lo Wo/rld!\n",
      "/hello/ Worl/d!\n",
      "he/llo W/orld!/\n",
      "hell/o Wor/ld!\n",
      "h/ello /World/!\n",
      "hel/lo Wo/rld!\n",
      "/hello/ Worl/d!\n",
      "he/llo W/orld!/\n",
      "hell/o Wor/ld!\n",
      "h/ello /World/!\n",
      "hel/lo Wo/rld!\n",
      "/"
     ]
    }
   ],
   "source": [
    "g = open(\"sample.txt\",'r')\n",
    "data = g.read(5)\n",
    "while len(data) >= 5:\n",
    "    print(data,end=\"/\")\n",
    "    data = g.read(5)\n",
    "\n",
    "if data:\n",
    "    print(data)\n",
    "g.close()\n",
    "\n",
    "    "
   ]
  },
  {
   "cell_type": "code",
   "execution_count": 5,
   "id": "9c03efad-80ea-4854-97f5-d92562307997",
   "metadata": {},
   "outputs": [
    {
     "name": "stdout",
     "output_type": "stream",
     "text": [
      "hello/ Worl/d!\n",
      "he/llo W/orld!/\n",
      "hell/o Wor/ld!\n",
      "h/ello /World/!\n",
      "hel/lo Wo/rld!\n",
      "/hello/ Worl/d!\n",
      "he/llo W/orld!/\n",
      "hell/o Wor/ld!\n",
      "h/ello /World/!\n",
      "hel/lo Wo/rld!\n",
      "/hello/ Worl/d!\n",
      "he/llo W/orld!/\n",
      "hell/o Wor/ld!\n",
      "h/ello /World/!\n",
      "hel/lo Wo/rld!\n",
      "/hello/ Worl/d!\n",
      "he/llo W/orld!/\n",
      "hell/o Wor/ld!\n",
      "h/ello /World/!\n",
      "hel/lo Wo/rld!\n",
      "/"
     ]
    }
   ],
   "source": [
    "g = open(\"sample.txt\",'r')\n",
    "while True:\n",
    "    data = g.read(5)\n",
    "    if not data:\n",
    "        break;\n",
    "    else:\n",
    "        print(data,end=\"/\")\n",
    "        "
   ]
  },
  {
   "cell_type": "markdown",
   "id": "7820a08f-5a47-415c-9e2e-a155b6e0fb85",
   "metadata": {},
   "source": []
  },
  {
   "cell_type": "markdown",
   "id": "d691bc9b-c975-46d5-80fa-e36233801d83",
   "metadata": {},
   "source": [
    "# With context Manager"
   ]
  },
  {
   "cell_type": "code",
   "execution_count": 1,
   "id": "0be4da25-bfd3-4f51-ac7e-1d8552ac8dab",
   "metadata": {},
   "outputs": [],
   "source": [
    "with open (\"sample.txt\",'w') as file:\n",
    "    file.write(\"Hello hey!\")"
   ]
  },
  {
   "cell_type": "code",
   "execution_count": 2,
   "id": "c1f35424-7b76-4e67-9c3b-d413134feff5",
   "metadata": {},
   "outputs": [],
   "source": [
    "d = {\"a\":1,\"b\":2,\"c\":3}"
   ]
  },
  {
   "cell_type": "code",
   "execution_count": 3,
   "id": "2f0df00a-5bce-4633-92cb-c190ef1eaa5b",
   "metadata": {},
   "outputs": [],
   "source": [
    "with open (\"sample2.txt\",\"w\") as file: \n",
    "    file.write(str(d))"
   ]
  },
  {
   "cell_type": "code",
   "execution_count": 4,
   "id": "061feb32-0c93-4f43-9e58-d9e69f35130f",
   "metadata": {},
   "outputs": [],
   "source": [
    "with open(\"sample2.txt\",'r') as file: \n",
    "    a = file.read()"
   ]
  },
  {
   "cell_type": "code",
   "execution_count": 5,
   "id": "e21cd115-c021-4d3c-a84b-12e1b54ae0d8",
   "metadata": {},
   "outputs": [
    {
     "name": "stdout",
     "output_type": "stream",
     "text": [
      "{'a': 1, 'b': 2, 'c': 3}\n"
     ]
    }
   ],
   "source": [
    "print(a)"
   ]
  },
  {
   "cell_type": "markdown",
   "id": "e34938ff-1754-4ed1-a762-3839fc49c31f",
   "metadata": {},
   "source": [
    "# JSON"
   ]
  },
  {
   "cell_type": "code",
   "execution_count": 6,
   "id": "d324b44c-36eb-44b6-9420-688e979a0d6d",
   "metadata": {},
   "outputs": [],
   "source": [
    "import json"
   ]
  },
  {
   "cell_type": "code",
   "execution_count": 13,
   "id": "270a8caa-fb1b-4592-be14-96dab98443d9",
   "metadata": {},
   "outputs": [],
   "source": [
    "with open (\"test.json\",\"w\") as file: # dump is used to write in the file\n",
    "    json.dump(d,file) "
   ]
  },
  {
   "cell_type": "code",
   "execution_count": 15,
   "id": "be529f6e-f016-4592-b3f3-7239ff503168",
   "metadata": {},
   "outputs": [
    {
     "name": "stdout",
     "output_type": "stream",
     "text": [
      "{'a': 1, 'b': 2, 'c': 3}\n"
     ]
    }
   ],
   "source": [
    "with open (\"test.json\",\"r\") as file: # load is used to read in the file\n",
    "    b = json.load(file)\n",
    "print(b)"
   ]
  },
  {
   "cell_type": "code",
   "execution_count": 12,
   "id": "76c597bc-b501-4cb0-98d3-ae8dd8972f79",
   "metadata": {},
   "outputs": [
    {
     "data": {
      "text/plain": [
       "1"
      ]
     },
     "execution_count": 12,
     "metadata": {},
     "output_type": "execute_result"
    }
   ],
   "source": [
    "b['a']"
   ]
  },
  {
   "cell_type": "code",
   "execution_count": 16,
   "id": "61a869f5-0d51-4f83-8e36-37a0a92c49a1",
   "metadata": {},
   "outputs": [],
   "source": [
    "# serialization : python --> js \n",
    "# deserialization --> json --> python"
   ]
  },
  {
   "cell_type": "code",
   "execution_count": 1,
   "id": "e72f8a64-a543-4eef-bb22-352e24f97e2d",
   "metadata": {},
   "outputs": [],
   "source": [
    "with open(\"img.webp\",\"rb\") as file:\n",
    "    x = file.read()\n",
    "with open "
   ]
  },
  {
   "cell_type": "markdown",
   "id": "9ed5f434-2cbb-41bb-acef-bd90368dfd8d",
   "metadata": {},
   "source": [
    "# Pickle"
   ]
  },
  {
   "cell_type": "code",
   "execution_count": 42,
   "id": "0a0ba090-1d04-4f74-8f53-4e2043a7ffd5",
   "metadata": {},
   "outputs": [],
   "source": [
    "# Pickling --> converting python objects to bytes \n",
    "class MachineModel:\n",
    "    def __init__(self,name):\n",
    "        self.name = name\n",
    "    def predict(self,x,y): \n",
    "        return x+y"
   ]
  },
  {
   "cell_type": "code",
   "execution_count": 43,
   "id": "4b593fc3-5954-43f9-aad2-badbd4f2b74d",
   "metadata": {},
   "outputs": [],
   "source": [
    "m = MachineModel(\"linear\")"
   ]
  },
  {
   "cell_type": "code",
   "execution_count": 44,
   "id": "15087dfa-925e-477b-bb31-73e9c629949b",
   "metadata": {},
   "outputs": [
    {
     "data": {
      "text/plain": [
       "13"
      ]
     },
     "execution_count": 44,
     "metadata": {},
     "output_type": "execute_result"
    }
   ],
   "source": [
    "m.predict(6,7)"
   ]
  },
  {
   "cell_type": "markdown",
   "id": "ab362715-83b9-4037-adcb-2e0743e5c0e4",
   "metadata": {},
   "source": [
    "# seek and tell"
   ]
  },
  {
   "cell_type": "code",
   "execution_count": 1,
   "id": "8f0882d5-9794-4e19-81d8-bc291820fcb5",
   "metadata": {},
   "outputs": [],
   "source": [
    "with open('new.txt','w') as f: \n",
    "    f.write(\"Hello my name is Shrey!\")"
   ]
  },
  {
   "cell_type": "code",
   "execution_count": 2,
   "id": "40f8ee5f-3eee-410b-b55f-db6796c2bc9b",
   "metadata": {},
   "outputs": [
    {
     "name": "stdout",
     "output_type": "stream",
     "text": [
      "llo my name is Shrey!\n"
     ]
    }
   ],
   "source": [
    "with open('new.txt','r') as file: \n",
    "    file.seek(2)\n",
    "    m = file.read()\n",
    "    print(m)"
   ]
  },
  {
   "cell_type": "code",
   "execution_count": 7,
   "id": "4f28fba1-2628-473e-b6d6-444c0ff53526",
   "metadata": {},
   "outputs": [],
   "source": [
    "with open (\"new1.txt\",\"w\") as f: \n",
    "    f.write(\"hello\")\n",
    "    f.seek(0)\n",
    "    f.write(\"xa\")"
   ]
  },
  {
   "cell_type": "code",
   "execution_count": null,
   "id": "b75b066e-e4de-4a8a-81b2-46478e7aeee2",
   "metadata": {},
   "outputs": [],
   "source": []
  }
 ],
 "metadata": {
  "kernelspec": {
   "display_name": "Python 3 (ipykernel)",
   "language": "python",
   "name": "python3"
  },
  "language_info": {
   "codemirror_mode": {
    "name": "ipython",
    "version": 3
   },
   "file_extension": ".py",
   "mimetype": "text/x-python",
   "name": "python",
   "nbconvert_exporter": "python",
   "pygments_lexer": "ipython3",
   "version": "3.11.7"
  }
 },
 "nbformat": 4,
 "nbformat_minor": 5
}
